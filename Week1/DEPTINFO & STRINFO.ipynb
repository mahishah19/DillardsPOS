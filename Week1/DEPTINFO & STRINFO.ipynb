{
 "cells": [
  {
   "cell_type": "markdown",
   "id": "6f460de0",
   "metadata": {},
   "source": [
    "# DEPTINFO & STRINFO Data EDA"
   ]
  },
  {
   "cell_type": "markdown",
   "id": "5c64550b",
   "metadata": {},
   "source": [
    "Looking at the ERD of the database schema we can see the Point of Sales (POS) for Dillards over a period of ___ years. Below we have done preliminary exploratory data analysis on each of the data tables as an attempt to understand the data. "
   ]
  },
  {
   "cell_type": "code",
   "execution_count": 1,
   "id": "7e3452b2",
   "metadata": {},
   "outputs": [],
   "source": [
    "# Loading the required packages \n",
    "import pandas as pd"
   ]
  },
  {
   "cell_type": "code",
   "execution_count": null,
   "metadata": {},
   "outputs": [],
   "source": [
    "# File name\n",
    "DEPT_info_file = 'Dillards POS/deptinfo.csv'\n",
    "STR_info_file = 'Dillards POS/strinfo.csv'"
   ]
  },
  {
   "cell_type": "markdown",
   "id": "36320fdc",
   "metadata": {},
   "source": [
    "## Department Information (deptinfo)"
   ]
  },
  {
   "cell_type": "code",
   "execution_count": 2,
   "id": "e9b7587f",
   "metadata": {},
   "outputs": [],
   "source": [
    "# Loading the data set\n",
    "deptinfo = pd.read_csv(DEPT_info_file)"
   ]
  },
  {
   "cell_type": "code",
   "execution_count": 3,
   "id": "e550a04d",
   "metadata": {},
   "outputs": [
    {
     "data": {
      "text/html": [
       "<div>\n",
       "<style scoped>\n",
       "    .dataframe tbody tr th:only-of-type {\n",
       "        vertical-align: middle;\n",
       "    }\n",
       "\n",
       "    .dataframe tbody tr th {\n",
       "        vertical-align: top;\n",
       "    }\n",
       "\n",
       "    .dataframe thead th {\n",
       "        text-align: right;\n",
       "    }\n",
       "</style>\n",
       "<table border=\"1\" class=\"dataframe\">\n",
       "  <thead>\n",
       "    <tr style=\"text-align: right;\">\n",
       "      <th></th>\n",
       "      <th>800</th>\n",
       "      <th>CLINIQUE</th>\n",
       "      <th>0</th>\n",
       "    </tr>\n",
       "  </thead>\n",
       "  <tbody>\n",
       "    <tr>\n",
       "      <th>0</th>\n",
       "      <td>801</td>\n",
       "      <td>LESLIE</td>\n",
       "      <td>0</td>\n",
       "    </tr>\n",
       "    <tr>\n",
       "      <th>1</th>\n",
       "      <td>1100</td>\n",
       "      <td>GARY F</td>\n",
       "      <td>0</td>\n",
       "    </tr>\n",
       "    <tr>\n",
       "      <th>2</th>\n",
       "      <td>1107</td>\n",
       "      <td>JACQUES</td>\n",
       "      <td>0</td>\n",
       "    </tr>\n",
       "    <tr>\n",
       "      <th>3</th>\n",
       "      <td>1202</td>\n",
       "      <td>CABERN</td>\n",
       "      <td>0</td>\n",
       "    </tr>\n",
       "    <tr>\n",
       "      <th>4</th>\n",
       "      <td>1301</td>\n",
       "      <td>BE2</td>\n",
       "      <td>0</td>\n",
       "    </tr>\n",
       "  </tbody>\n",
       "</table>\n",
       "</div>"
      ],
      "text/plain": [
       "    800  CLINIQUE  0\n",
       "0   801  LESLIE    0\n",
       "1  1100  GARY F    0\n",
       "2  1107  JACQUES   0\n",
       "3  1202  CABERN    0\n",
       "4  1301  BE2       0"
      ]
     },
     "execution_count": 3,
     "metadata": {},
     "output_type": "execute_result"
    }
   ],
   "source": [
    "# Inspecting the first 5 rows to understand the table\n",
    "deptinfo.head()"
   ]
  },
  {
   "cell_type": "markdown",
   "id": "8fa5407d",
   "metadata": {},
   "source": [
    "We can see that the columns are incorrectly being named here. Additionally, per the ERD, we know the column names too. Hence making the required changes"
   ]
  },
  {
   "cell_type": "code",
   "execution_count": 4,
   "id": "e9f50868",
   "metadata": {},
   "outputs": [
    {
     "data": {
      "text/html": [
       "<div>\n",
       "<style scoped>\n",
       "    .dataframe tbody tr th:only-of-type {\n",
       "        vertical-align: middle;\n",
       "    }\n",
       "\n",
       "    .dataframe tbody tr th {\n",
       "        vertical-align: top;\n",
       "    }\n",
       "\n",
       "    .dataframe thead th {\n",
       "        text-align: right;\n",
       "    }\n",
       "</style>\n",
       "<table border=\"1\" class=\"dataframe\">\n",
       "  <thead>\n",
       "    <tr style=\"text-align: right;\">\n",
       "      <th></th>\n",
       "      <th>Dept</th>\n",
       "      <th>DeptDesc</th>\n",
       "    </tr>\n",
       "  </thead>\n",
       "  <tbody>\n",
       "    <tr>\n",
       "      <th>0</th>\n",
       "      <td>800</td>\n",
       "      <td>CLINIQUE</td>\n",
       "    </tr>\n",
       "    <tr>\n",
       "      <th>1</th>\n",
       "      <td>801</td>\n",
       "      <td>LESLIE</td>\n",
       "    </tr>\n",
       "    <tr>\n",
       "      <th>2</th>\n",
       "      <td>1100</td>\n",
       "      <td>GARY F</td>\n",
       "    </tr>\n",
       "    <tr>\n",
       "      <th>3</th>\n",
       "      <td>1107</td>\n",
       "      <td>JACQUES</td>\n",
       "    </tr>\n",
       "    <tr>\n",
       "      <th>4</th>\n",
       "      <td>1202</td>\n",
       "      <td>CABERN</td>\n",
       "    </tr>\n",
       "  </tbody>\n",
       "</table>\n",
       "</div>"
      ],
      "text/plain": [
       "   Dept  DeptDesc\n",
       "0   800  CLINIQUE\n",
       "1   801  LESLIE  \n",
       "2  1100  GARY F  \n",
       "3  1107  JACQUES \n",
       "4  1202  CABERN  "
      ]
     },
     "execution_count": 4,
     "metadata": {},
     "output_type": "execute_result"
    }
   ],
   "source": [
    "# Fixing discrepancies in the table\n",
    "cols = ['Dept','DeptDesc']\n",
    "deptinfo = pd.read_csv('Dillards POS/deptinfo.csv',header = None).iloc[:, :-1]\n",
    "deptinfo.columns = cols\n",
    "deptinfo.head()"
   ]
  },
  {
   "cell_type": "markdown",
   "id": "88fd3f82",
   "metadata": {},
   "source": [
    "Now the table is as expected. This table gives us the information about what department a particular stock belongs to and what is the description of that department. To note that 'dept' is the primary key here."
   ]
  },
  {
   "cell_type": "code",
   "execution_count": 5,
   "id": "6559d05f",
   "metadata": {},
   "outputs": [
    {
     "data": {
      "text/plain": [
       "(60, 2)"
      ]
     },
     "execution_count": 5,
     "metadata": {},
     "output_type": "execute_result"
    }
   ],
   "source": [
    "# Looking the shape of the table \n",
    "deptinfo.shape"
   ]
  },
  {
   "cell_type": "code",
   "execution_count": 6,
   "id": "1bb1c38d",
   "metadata": {},
   "outputs": [
    {
     "name": "stdout",
     "output_type": "stream",
     "text": [
      "<class 'pandas.core.frame.DataFrame'>\n",
      "RangeIndex: 60 entries, 0 to 59\n",
      "Data columns (total 2 columns):\n",
      " #   Column    Non-Null Count  Dtype \n",
      "---  ------    --------------  ----- \n",
      " 0   Dept      60 non-null     int64 \n",
      " 1   DeptDesc  60 non-null     object\n",
      "dtypes: int64(1), object(1)\n",
      "memory usage: 1.1+ KB\n"
     ]
    }
   ],
   "source": [
    "# Inspecting the descriptive stats \n",
    "deptinfo.info()"
   ]
  },
  {
   "cell_type": "markdown",
   "id": "9ae773f8",
   "metadata": {},
   "source": [
    "Since dept is a primary key and will be an unique column, we can deduce there are 60 distinct departments in Dillard's retain chain. (We can also confirm there are no NULL columns in this table)"
   ]
  },
  {
   "cell_type": "markdown",
   "id": "6a6d55d9",
   "metadata": {},
   "source": [
    "## Store Information (strinfo)"
   ]
  },
  {
   "cell_type": "code",
   "execution_count": 7,
   "id": "d2a40c6a",
   "metadata": {},
   "outputs": [],
   "source": [
    "# Loading the data set\n",
    "strinfo = pd.read_csv(STR_info_file)"
   ]
  },
  {
   "cell_type": "code",
   "execution_count": 8,
   "id": "cefbed63",
   "metadata": {},
   "outputs": [
    {
     "data": {
      "text/html": [
       "<div>\n",
       "<style scoped>\n",
       "    .dataframe tbody tr th:only-of-type {\n",
       "        vertical-align: middle;\n",
       "    }\n",
       "\n",
       "    .dataframe tbody tr th {\n",
       "        vertical-align: top;\n",
       "    }\n",
       "\n",
       "    .dataframe thead th {\n",
       "        text-align: right;\n",
       "    }\n",
       "</style>\n",
       "<table border=\"1\" class=\"dataframe\">\n",
       "  <thead>\n",
       "    <tr style=\"text-align: right;\">\n",
       "      <th></th>\n",
       "      <th>2</th>\n",
       "      <th>ST. PETERSBURG</th>\n",
       "      <th>FL</th>\n",
       "      <th>33710</th>\n",
       "      <th>0</th>\n",
       "    </tr>\n",
       "  </thead>\n",
       "  <tbody>\n",
       "    <tr>\n",
       "      <th>0</th>\n",
       "      <td>3</td>\n",
       "      <td>ST. LOUIS</td>\n",
       "      <td>MO</td>\n",
       "      <td>63126</td>\n",
       "      <td>0</td>\n",
       "    </tr>\n",
       "    <tr>\n",
       "      <th>1</th>\n",
       "      <td>4</td>\n",
       "      <td>LITTLE ROCK</td>\n",
       "      <td>AR</td>\n",
       "      <td>72201</td>\n",
       "      <td>0</td>\n",
       "    </tr>\n",
       "    <tr>\n",
       "      <th>2</th>\n",
       "      <td>7</td>\n",
       "      <td>FORT WORTH</td>\n",
       "      <td>TX</td>\n",
       "      <td>76137</td>\n",
       "      <td>0</td>\n",
       "    </tr>\n",
       "    <tr>\n",
       "      <th>3</th>\n",
       "      <td>9</td>\n",
       "      <td>TEMPE</td>\n",
       "      <td>AZ</td>\n",
       "      <td>85281</td>\n",
       "      <td>0</td>\n",
       "    </tr>\n",
       "    <tr>\n",
       "      <th>4</th>\n",
       "      <td>60</td>\n",
       "      <td>ASPEN</td>\n",
       "      <td>CO</td>\n",
       "      <td>81611</td>\n",
       "      <td>0</td>\n",
       "    </tr>\n",
       "  </tbody>\n",
       "</table>\n",
       "</div>"
      ],
      "text/plain": [
       "    2  ST. PETERSBURG        FL  33710  0\n",
       "0   3  ST. LOUIS             MO  63126  0\n",
       "1   4  LITTLE ROCK           AR  72201  0\n",
       "2   7  FORT WORTH            TX  76137  0\n",
       "3   9  TEMPE                 AZ  85281  0\n",
       "4  60  ASPEN                 CO  81611  0"
      ]
     },
     "execution_count": 8,
     "metadata": {},
     "output_type": "execute_result"
    }
   ],
   "source": [
    "# Inspecting the first 5 rows to understand the table\n",
    "strinfo.head()"
   ]
  },
  {
   "cell_type": "markdown",
   "id": "fbdf604d",
   "metadata": {},
   "source": [
    "We can see that the columns are incorrectly being named here. Additionally, per the ERD, we know the column names too. Hence making the required changes"
   ]
  },
  {
   "cell_type": "code",
   "execution_count": 9,
   "id": "7a61e85d",
   "metadata": {},
   "outputs": [
    {
     "data": {
      "text/html": [
       "<div>\n",
       "<style scoped>\n",
       "    .dataframe tbody tr th:only-of-type {\n",
       "        vertical-align: middle;\n",
       "    }\n",
       "\n",
       "    .dataframe tbody tr th {\n",
       "        vertical-align: top;\n",
       "    }\n",
       "\n",
       "    .dataframe thead th {\n",
       "        text-align: right;\n",
       "    }\n",
       "</style>\n",
       "<table border=\"1\" class=\"dataframe\">\n",
       "  <thead>\n",
       "    <tr style=\"text-align: right;\">\n",
       "      <th></th>\n",
       "      <th>Store</th>\n",
       "      <th>City</th>\n",
       "      <th>State</th>\n",
       "      <th>Zip</th>\n",
       "    </tr>\n",
       "  </thead>\n",
       "  <tbody>\n",
       "    <tr>\n",
       "      <th>0</th>\n",
       "      <td>2</td>\n",
       "      <td>ST. PETERSBURG</td>\n",
       "      <td>FL</td>\n",
       "      <td>33710</td>\n",
       "    </tr>\n",
       "    <tr>\n",
       "      <th>1</th>\n",
       "      <td>3</td>\n",
       "      <td>ST. LOUIS</td>\n",
       "      <td>MO</td>\n",
       "      <td>63126</td>\n",
       "    </tr>\n",
       "    <tr>\n",
       "      <th>2</th>\n",
       "      <td>4</td>\n",
       "      <td>LITTLE ROCK</td>\n",
       "      <td>AR</td>\n",
       "      <td>72201</td>\n",
       "    </tr>\n",
       "    <tr>\n",
       "      <th>3</th>\n",
       "      <td>7</td>\n",
       "      <td>FORT WORTH</td>\n",
       "      <td>TX</td>\n",
       "      <td>76137</td>\n",
       "    </tr>\n",
       "    <tr>\n",
       "      <th>4</th>\n",
       "      <td>9</td>\n",
       "      <td>TEMPE</td>\n",
       "      <td>AZ</td>\n",
       "      <td>85281</td>\n",
       "    </tr>\n",
       "  </tbody>\n",
       "</table>\n",
       "</div>"
      ],
      "text/plain": [
       "   Store                  City State    Zip\n",
       "0      2  ST. PETERSBURG          FL  33710\n",
       "1      3  ST. LOUIS               MO  63126\n",
       "2      4  LITTLE ROCK             AR  72201\n",
       "3      7  FORT WORTH              TX  76137\n",
       "4      9  TEMPE                   AZ  85281"
      ]
     },
     "execution_count": 9,
     "metadata": {},
     "output_type": "execute_result"
    }
   ],
   "source": [
    "# Fixing discrepancies in the table\n",
    "cols = ['Store','City','State','Zip']\n",
    "strinfo = pd.read_csv(STR_info_file,header = None).iloc[:, :-1]\n",
    "strinfo.columns = cols\n",
    "strinfo.head()"
   ]
  },
  {
   "cell_type": "markdown",
   "id": "e3441460",
   "metadata": {},
   "source": [
    "Now the table is as expected. This table gives us the information about the different stores in the retail chain and where it is located. To note that 'store' is the primary key here. (We can also see there are no columns with NULL values)"
   ]
  },
  {
   "cell_type": "code",
   "execution_count": 10,
   "id": "29d6d495",
   "metadata": {},
   "outputs": [
    {
     "data": {
      "text/plain": [
       "(453, 4)"
      ]
     },
     "execution_count": 10,
     "metadata": {},
     "output_type": "execute_result"
    }
   ],
   "source": [
    "# Looking the shape of the table \n",
    "strinfo.shape"
   ]
  },
  {
   "cell_type": "code",
   "execution_count": 11,
   "id": "33aeb51d",
   "metadata": {},
   "outputs": [
    {
     "name": "stdout",
     "output_type": "stream",
     "text": [
      "<class 'pandas.core.frame.DataFrame'>\n",
      "RangeIndex: 453 entries, 0 to 452\n",
      "Data columns (total 4 columns):\n",
      " #   Column  Non-Null Count  Dtype \n",
      "---  ------  --------------  ----- \n",
      " 0   Store   453 non-null    int64 \n",
      " 1   City    453 non-null    object\n",
      " 2   State   453 non-null    object\n",
      " 3   Zip     453 non-null    int64 \n",
      "dtypes: int64(2), object(2)\n",
      "memory usage: 14.3+ KB\n"
     ]
    }
   ],
   "source": [
    "# Inspecting the descriptive stats \n",
    "strinfo.info()"
   ]
  },
  {
   "cell_type": "markdown",
   "id": "bd06e050",
   "metadata": {},
   "source": [
    "Since store is a primary key and will be an unique column, we can deduce there are 453 stores in Dillard's retain chain "
   ]
  },
  {
   "cell_type": "code",
   "execution_count": 12,
   "id": "3b3de6ca",
   "metadata": {},
   "outputs": [
    {
     "data": {
      "text/plain": [
       "<Axes: >"
      ]
     },
     "execution_count": 12,
     "metadata": {},
     "output_type": "execute_result"
    },
    {
     "data": {
      "image/png": "[encoded data removed]",
      "text/plain": [
       "<Figure size 640x480 with 1 Axes>"
      ]
     },
     "metadata": {},
     "output_type": "display_data"
    }
   ],
   "source": [
    "strinfo.State.value_counts().plot(kind = \"barh\")"
   ]
  },
  {
   "cell_type": "markdown",
   "id": "ae8dd0a9",
   "metadata": {},
   "source": [
    "On plotting a frequency distribtution of the number of stores in each State we can conclude Texas (TX) has the highest number of stores and Wyoming has the least number of stores. "
   ]
  }
 ],
 "metadata": {
  "kernelspec": {
   "display_name": "Python 3 (ipykernel)",
   "language": "python",
   "name": "python3"
  },
  "language_info": {
   "codemirror_mode": {
    "name": "ipython",
    "version": 3
   },
   "file_extension": ".py",
   "mimetype": "text/x-python",
   "name": "python",
   "nbconvert_exporter": "python",
   "pygments_lexer": "ipython3",
   "version": "3.11.4"
  }
 },
 "nbformat": 4,
 "nbformat_minor": 5
}
