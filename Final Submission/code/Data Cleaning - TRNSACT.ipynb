{
 "cells": [
  {
   "cell_type": "code",
   "execution_count": 2,
   "metadata": {},
   "outputs": [],
   "source": [
    "import pandas as pd"
   ]
  },
  {
   "cell_type": "code",
   "execution_count": 3,
   "metadata": {},
   "outputs": [],
   "source": [
    "trnsact = pd.read_csv('trnsact.csv', sep=',', header= None,\n",
    "                    #    dtype={'STORE':'int', 'SKU':'int', 'COST':'float', 'RETAIL':'float', 'Unknown':'int'},\n",
    "                       names=['SKU', 'STORE', 'REGISTER', 'TRANNUM', 'INTERID', 'SALEDATE', 'STYPE', 'QUANTITY', 'ORGPRICE', 'SPRICE', 'AMT', 'SEQ', 'MIC', 'Unknown'])"
   ]
  },
  {
   "cell_type": "code",
   "execution_count": 5,
   "metadata": {},
   "outputs": [
    {
     "data": {
      "text/html": [
       "<div>\n",
       "<style scoped>\n",
       "    .dataframe tbody tr th:only-of-type {\n",
       "        vertical-align: middle;\n",
       "    }\n",
       "\n",
       "    .dataframe tbody tr th {\n",
       "        vertical-align: top;\n",
       "    }\n",
       "\n",
       "    .dataframe thead th {\n",
       "        text-align: right;\n",
       "    }\n",
       "</style>\n",
       "<table border=\"1\" class=\"dataframe\">\n",
       "  <thead>\n",
       "    <tr style=\"text-align: right;\">\n",
       "      <th></th>\n",
       "      <th>SKU</th>\n",
       "      <th>STORE</th>\n",
       "      <th>REGISTER</th>\n",
       "      <th>TRANNUM</th>\n",
       "      <th>INTERID</th>\n",
       "      <th>SALEDATE</th>\n",
       "      <th>STYPE</th>\n",
       "      <th>QUANTITY</th>\n",
       "      <th>ORGPRICE</th>\n",
       "      <th>SPRICE</th>\n",
       "      <th>AMT</th>\n",
       "      <th>SEQ</th>\n",
       "      <th>MIC</th>\n",
       "      <th>Unknown</th>\n",
       "    </tr>\n",
       "  </thead>\n",
       "  <tbody>\n",
       "    <tr>\n",
       "      <th>0</th>\n",
       "      <td>3</td>\n",
       "      <td>202</td>\n",
       "      <td>290</td>\n",
       "      <td>1100</td>\n",
       "      <td>326708721</td>\n",
       "      <td>2005-01-18</td>\n",
       "      <td>P</td>\n",
       "      <td>1</td>\n",
       "      <td>0.0</td>\n",
       "      <td>30.0</td>\n",
       "      <td>30.0</td>\n",
       "      <td>3500000</td>\n",
       "      <td>818</td>\n",
       "      <td>0</td>\n",
       "    </tr>\n",
       "    <tr>\n",
       "      <th>1</th>\n",
       "      <td>3</td>\n",
       "      <td>202</td>\n",
       "      <td>540</td>\n",
       "      <td>2700</td>\n",
       "      <td>326708721</td>\n",
       "      <td>2005-01-29</td>\n",
       "      <td>R</td>\n",
       "      <td>1</td>\n",
       "      <td>0.0</td>\n",
       "      <td>30.0</td>\n",
       "      <td>30.0</td>\n",
       "      <td>15200000</td>\n",
       "      <td>818</td>\n",
       "      <td>0</td>\n",
       "    </tr>\n",
       "    <tr>\n",
       "      <th>2</th>\n",
       "      <td>3</td>\n",
       "      <td>303</td>\n",
       "      <td>500</td>\n",
       "      <td>2100</td>\n",
       "      <td>23702074</td>\n",
       "      <td>2004-08-18</td>\n",
       "      <td>P</td>\n",
       "      <td>1</td>\n",
       "      <td>0.0</td>\n",
       "      <td>12.0</td>\n",
       "      <td>12.0</td>\n",
       "      <td>4600000</td>\n",
       "      <td>48</td>\n",
       "      <td>0</td>\n",
       "    </tr>\n",
       "    <tr>\n",
       "      <th>3</th>\n",
       "      <td>3</td>\n",
       "      <td>709</td>\n",
       "      <td>360</td>\n",
       "      <td>500</td>\n",
       "      <td>0</td>\n",
       "      <td>2005-08-14</td>\n",
       "      <td>P</td>\n",
       "      <td>1</td>\n",
       "      <td>0.0</td>\n",
       "      <td>30.0</td>\n",
       "      <td>30.0</td>\n",
       "      <td>6500000</td>\n",
       "      <td>818</td>\n",
       "      <td>0</td>\n",
       "    </tr>\n",
       "    <tr>\n",
       "      <th>4</th>\n",
       "      <td>3</td>\n",
       "      <td>802</td>\n",
       "      <td>660</td>\n",
       "      <td>400</td>\n",
       "      <td>0</td>\n",
       "      <td>2005-08-09</td>\n",
       "      <td>P</td>\n",
       "      <td>1</td>\n",
       "      <td>440.0</td>\n",
       "      <td>30.0</td>\n",
       "      <td>30.0</td>\n",
       "      <td>4700000</td>\n",
       "      <td>599</td>\n",
       "      <td>0</td>\n",
       "    </tr>\n",
       "  </tbody>\n",
       "</table>\n",
       "</div>"
      ],
      "text/plain": [
       "   SKU  STORE  REGISTER  TRANNUM    INTERID    SALEDATE STYPE  QUANTITY  \\\n",
       "0    3    202       290     1100  326708721  2005-01-18     P         1   \n",
       "1    3    202       540     2700  326708721  2005-01-29     R         1   \n",
       "2    3    303       500     2100   23702074  2004-08-18     P         1   \n",
       "3    3    709       360      500          0  2005-08-14     P         1   \n",
       "4    3    802       660      400          0  2005-08-09     P         1   \n",
       "\n",
       "   ORGPRICE  SPRICE   AMT       SEQ  MIC  Unknown  \n",
       "0       0.0    30.0  30.0   3500000  818        0  \n",
       "1       0.0    30.0  30.0  15200000  818        0  \n",
       "2       0.0    12.0  12.0   4600000   48        0  \n",
       "3       0.0    30.0  30.0   6500000  818        0  \n",
       "4     440.0    30.0  30.0   4700000  599        0  "
      ]
     },
     "execution_count": 5,
     "metadata": {},
     "output_type": "execute_result"
    }
   ],
   "source": [
    "trnsact.head()"
   ]
  },
  {
   "cell_type": "code",
   "execution_count": 6,
   "metadata": {},
   "outputs": [
    {
     "name": "stdout",
     "output_type": "stream",
     "text": [
      "SKU           int64\n",
      "STORE         int64\n",
      "REGISTER      int64\n",
      "TRANNUM       int64\n",
      "INTERID       int64\n",
      "SALEDATE     object\n",
      "STYPE        object\n",
      "QUANTITY      int64\n",
      "ORGPRICE    float64\n",
      "SPRICE      float64\n",
      "AMT         float64\n",
      "SEQ           int64\n",
      "MIC           int64\n",
      "Unknown       int64\n",
      "dtype: object\n"
     ]
    }
   ],
   "source": [
    "data_types = trnsact.dtypes\n",
    "\n",
    "print(data_types)"
   ]
  },
  {
   "cell_type": "code",
   "execution_count": 7,
   "metadata": {},
   "outputs": [
    {
     "data": {
      "text/plain": [
       "SKU         0.0\n",
       "STORE       0.0\n",
       "REGISTER    0.0\n",
       "TRANNUM     0.0\n",
       "INTERID     0.0\n",
       "SALEDATE    0.0\n",
       "STYPE       0.0\n",
       "QUANTITY    0.0\n",
       "ORGPRICE    0.0\n",
       "SPRICE      0.0\n",
       "AMT         0.0\n",
       "SEQ         0.0\n",
       "MIC         0.0\n",
       "Unknown     0.0\n",
       "dtype: float64"
      ]
     },
     "execution_count": 7,
     "metadata": {},
     "output_type": "execute_result"
    }
   ],
   "source": [
    "trnsact.isnull().sum()/len(trnsact)*100"
   ]
  },
  {
   "cell_type": "markdown",
   "metadata": {},
   "source": [
    "No missing values in the data set "
   ]
  },
  {
   "cell_type": "code",
   "execution_count": 8,
   "metadata": {},
   "outputs": [
    {
     "data": {
      "text/plain": [
       "0.9999999421090002"
      ]
     },
     "execution_count": 8,
     "metadata": {},
     "output_type": "execute_result"
    }
   ],
   "source": [
    "sum(trnsact['SPRICE'] == trnsact['AMT']) / len(trnsact)"
   ]
  },
  {
   "cell_type": "markdown",
   "metadata": {},
   "source": [
    "AMT and SPRICE are pretty much the same, we easily drop SPRICE, and drop unknown as well"
   ]
  },
  {
   "cell_type": "code",
   "execution_count": 9,
   "metadata": {},
   "outputs": [],
   "source": [
    "trnsact = trnsact.drop(columns=['SPRICE'])\n",
    "trnsact = trnsact.drop(columns=['Unknown'])"
   ]
  },
  {
   "cell_type": "code",
   "execution_count": 10,
   "metadata": {},
   "outputs": [
    {
     "data": {
      "text/html": [
       "<div>\n",
       "<style scoped>\n",
       "    .dataframe tbody tr th:only-of-type {\n",
       "        vertical-align: middle;\n",
       "    }\n",
       "\n",
       "    .dataframe tbody tr th {\n",
       "        vertical-align: top;\n",
       "    }\n",
       "\n",
       "    .dataframe thead th {\n",
       "        text-align: right;\n",
       "    }\n",
       "</style>\n",
       "<table border=\"1\" class=\"dataframe\">\n",
       "  <thead>\n",
       "    <tr style=\"text-align: right;\">\n",
       "      <th></th>\n",
       "      <th>SKU</th>\n",
       "      <th>STORE</th>\n",
       "      <th>REGISTER</th>\n",
       "      <th>TRANNUM</th>\n",
       "      <th>INTERID</th>\n",
       "      <th>SALEDATE</th>\n",
       "      <th>STYPE</th>\n",
       "      <th>QUANTITY</th>\n",
       "      <th>ORGPRICE</th>\n",
       "      <th>AMT</th>\n",
       "      <th>SEQ</th>\n",
       "      <th>MIC</th>\n",
       "    </tr>\n",
       "  </thead>\n",
       "  <tbody>\n",
       "    <tr>\n",
       "      <th>0</th>\n",
       "      <td>3</td>\n",
       "      <td>202</td>\n",
       "      <td>290</td>\n",
       "      <td>1100</td>\n",
       "      <td>326708721</td>\n",
       "      <td>2005-01-18</td>\n",
       "      <td>P</td>\n",
       "      <td>1</td>\n",
       "      <td>0.0</td>\n",
       "      <td>30.00</td>\n",
       "      <td>3500000</td>\n",
       "      <td>818</td>\n",
       "    </tr>\n",
       "    <tr>\n",
       "      <th>1</th>\n",
       "      <td>3</td>\n",
       "      <td>202</td>\n",
       "      <td>540</td>\n",
       "      <td>2700</td>\n",
       "      <td>326708721</td>\n",
       "      <td>2005-01-29</td>\n",
       "      <td>R</td>\n",
       "      <td>1</td>\n",
       "      <td>0.0</td>\n",
       "      <td>30.00</td>\n",
       "      <td>15200000</td>\n",
       "      <td>818</td>\n",
       "    </tr>\n",
       "    <tr>\n",
       "      <th>2</th>\n",
       "      <td>3</td>\n",
       "      <td>303</td>\n",
       "      <td>500</td>\n",
       "      <td>2100</td>\n",
       "      <td>23702074</td>\n",
       "      <td>2004-08-18</td>\n",
       "      <td>P</td>\n",
       "      <td>1</td>\n",
       "      <td>0.0</td>\n",
       "      <td>12.00</td>\n",
       "      <td>4600000</td>\n",
       "      <td>48</td>\n",
       "    </tr>\n",
       "    <tr>\n",
       "      <th>3</th>\n",
       "      <td>3</td>\n",
       "      <td>709</td>\n",
       "      <td>360</td>\n",
       "      <td>500</td>\n",
       "      <td>0</td>\n",
       "      <td>2005-08-14</td>\n",
       "      <td>P</td>\n",
       "      <td>1</td>\n",
       "      <td>0.0</td>\n",
       "      <td>30.00</td>\n",
       "      <td>6500000</td>\n",
       "      <td>818</td>\n",
       "    </tr>\n",
       "    <tr>\n",
       "      <th>4</th>\n",
       "      <td>3</td>\n",
       "      <td>802</td>\n",
       "      <td>660</td>\n",
       "      <td>400</td>\n",
       "      <td>0</td>\n",
       "      <td>2005-08-09</td>\n",
       "      <td>P</td>\n",
       "      <td>1</td>\n",
       "      <td>440.0</td>\n",
       "      <td>30.00</td>\n",
       "      <td>4700000</td>\n",
       "      <td>599</td>\n",
       "    </tr>\n",
       "    <tr>\n",
       "      <th>...</th>\n",
       "      <td>...</td>\n",
       "      <td>...</td>\n",
       "      <td>...</td>\n",
       "      <td>...</td>\n",
       "      <td>...</td>\n",
       "      <td>...</td>\n",
       "      <td>...</td>\n",
       "      <td>...</td>\n",
       "      <td>...</td>\n",
       "      <td>...</td>\n",
       "      <td>...</td>\n",
       "      <td>...</td>\n",
       "    </tr>\n",
       "    <tr>\n",
       "      <th>120916891</th>\n",
       "      <td>9999997</td>\n",
       "      <td>7507</td>\n",
       "      <td>750</td>\n",
       "      <td>2800</td>\n",
       "      <td>0</td>\n",
       "      <td>2005-04-23</td>\n",
       "      <td>P</td>\n",
       "      <td>1</td>\n",
       "      <td>39.0</td>\n",
       "      <td>39.00</td>\n",
       "      <td>593900116</td>\n",
       "      <td>395</td>\n",
       "    </tr>\n",
       "    <tr>\n",
       "      <th>120916892</th>\n",
       "      <td>9999997</td>\n",
       "      <td>7907</td>\n",
       "      <td>790</td>\n",
       "      <td>3200</td>\n",
       "      <td>0</td>\n",
       "      <td>2005-05-03</td>\n",
       "      <td>P</td>\n",
       "      <td>1</td>\n",
       "      <td>39.0</td>\n",
       "      <td>39.00</td>\n",
       "      <td>502600061</td>\n",
       "      <td>395</td>\n",
       "    </tr>\n",
       "    <tr>\n",
       "      <th>120916893</th>\n",
       "      <td>9999997</td>\n",
       "      <td>7907</td>\n",
       "      <td>800</td>\n",
       "      <td>700</td>\n",
       "      <td>0</td>\n",
       "      <td>2005-05-04</td>\n",
       "      <td>R</td>\n",
       "      <td>1</td>\n",
       "      <td>39.0</td>\n",
       "      <td>39.00</td>\n",
       "      <td>600900066</td>\n",
       "      <td>395</td>\n",
       "    </tr>\n",
       "    <tr>\n",
       "      <th>120916894</th>\n",
       "      <td>9999997</td>\n",
       "      <td>7907</td>\n",
       "      <td>800</td>\n",
       "      <td>700</td>\n",
       "      <td>0</td>\n",
       "      <td>2005-05-04</td>\n",
       "      <td>P</td>\n",
       "      <td>1</td>\n",
       "      <td>39.0</td>\n",
       "      <td>39.00</td>\n",
       "      <td>601000066</td>\n",
       "      <td>395</td>\n",
       "    </tr>\n",
       "    <tr>\n",
       "      <th>120916895</th>\n",
       "      <td>9999997</td>\n",
       "      <td>7907</td>\n",
       "      <td>800</td>\n",
       "      <td>4100</td>\n",
       "      <td>257808914</td>\n",
       "      <td>2005-07-31</td>\n",
       "      <td>P</td>\n",
       "      <td>1</td>\n",
       "      <td>39.0</td>\n",
       "      <td>26.13</td>\n",
       "      <td>658600082</td>\n",
       "      <td>395</td>\n",
       "    </tr>\n",
       "  </tbody>\n",
       "</table>\n",
       "<p>120916896 rows × 12 columns</p>\n",
       "</div>"
      ],
      "text/plain": [
       "               SKU  STORE  REGISTER  TRANNUM    INTERID    SALEDATE STYPE  \\\n",
       "0                3    202       290     1100  326708721  2005-01-18     P   \n",
       "1                3    202       540     2700  326708721  2005-01-29     R   \n",
       "2                3    303       500     2100   23702074  2004-08-18     P   \n",
       "3                3    709       360      500          0  2005-08-14     P   \n",
       "4                3    802       660      400          0  2005-08-09     P   \n",
       "...            ...    ...       ...      ...        ...         ...   ...   \n",
       "120916891  9999997   7507       750     2800          0  2005-04-23     P   \n",
       "120916892  9999997   7907       790     3200          0  2005-05-03     P   \n",
       "120916893  9999997   7907       800      700          0  2005-05-04     R   \n",
       "120916894  9999997   7907       800      700          0  2005-05-04     P   \n",
       "120916895  9999997   7907       800     4100  257808914  2005-07-31     P   \n",
       "\n",
       "           QUANTITY  ORGPRICE    AMT        SEQ  MIC  \n",
       "0                 1       0.0  30.00    3500000  818  \n",
       "1                 1       0.0  30.00   15200000  818  \n",
       "2                 1       0.0  12.00    4600000   48  \n",
       "3                 1       0.0  30.00    6500000  818  \n",
       "4                 1     440.0  30.00    4700000  599  \n",
       "...             ...       ...    ...        ...  ...  \n",
       "120916891         1      39.0  39.00  593900116  395  \n",
       "120916892         1      39.0  39.00  502600061  395  \n",
       "120916893         1      39.0  39.00  600900066  395  \n",
       "120916894         1      39.0  39.00  601000066  395  \n",
       "120916895         1      39.0  26.13  658600082  395  \n",
       "\n",
       "[120916896 rows x 12 columns]"
      ]
     },
     "execution_count": 10,
     "metadata": {},
     "output_type": "execute_result"
    }
   ],
   "source": [
    "trnsact"
   ]
  },
  {
   "cell_type": "code",
   "execution_count": 11,
   "metadata": {},
   "outputs": [],
   "source": [
    "trnsact['SALEDATE'] = pd.to_datetime(trnsact['SALEDATE'])\n",
    "trnsact['STYPE'] = trnsact['STYPE'].astype(str)"
   ]
  },
  {
   "cell_type": "code",
   "execution_count": 12,
   "metadata": {},
   "outputs": [
    {
     "data": {
      "text/plain": [
       "True"
      ]
     },
     "execution_count": 12,
     "metadata": {},
     "output_type": "execute_result"
    }
   ],
   "source": [
    "stype_all_string = trnsact['STYPE'].apply(lambda x: isinstance(x, str)).all()\n",
    "stype_all_string"
   ]
  },
  {
   "cell_type": "code",
   "execution_count": 13,
   "metadata": {},
   "outputs": [
    {
     "data": {
      "text/plain": [
       "1425811"
      ]
     },
     "execution_count": 13,
     "metadata": {},
     "output_type": "execute_result"
    }
   ],
   "source": [
    "orgprice0 = (trnsact['ORGPRICE'] == 0).sum()\n",
    "# there are 1425811 rows that have ORGPRICE as 0\n",
    "orgprice0"
   ]
  },
  {
   "cell_type": "code",
   "execution_count": 14,
   "metadata": {},
   "outputs": [
    {
     "name": "stdout",
     "output_type": "stream",
     "text": [
      "<class 'pandas.core.frame.DataFrame'>\n",
      "RangeIndex: 120916896 entries, 0 to 120916895\n",
      "Data columns (total 12 columns):\n",
      " #   Column    Dtype         \n",
      "---  ------    -----         \n",
      " 0   SKU       int64         \n",
      " 1   STORE     int64         \n",
      " 2   REGISTER  int64         \n",
      " 3   TRANNUM   int64         \n",
      " 4   INTERID   int64         \n",
      " 5   SALEDATE  datetime64[ns]\n",
      " 6   STYPE     object        \n",
      " 7   QUANTITY  int64         \n",
      " 8   ORGPRICE  float64       \n",
      " 9   AMT       float64       \n",
      " 10  SEQ       int64         \n",
      " 11  MIC       int64         \n",
      "dtypes: datetime64[ns](1), float64(2), int64(8), object(1)\n",
      "memory usage: 10.8+ GB\n"
     ]
    }
   ],
   "source": [
    "trnsact.info()"
   ]
  },
  {
   "cell_type": "code",
   "execution_count": 15,
   "metadata": {},
   "outputs": [],
   "source": [
    "trnsact.to_csv('trnsact_clean.csv', index=False)"
   ]
  }
 ],
 "metadata": {
  "kernelspec": {
   "display_name": "Python 3 (ipykernel)",
   "language": "python",
   "name": "python3"
  },
  "language_info": {
   "codemirror_mode": {
    "name": "ipython",
    "version": 3
   },
   "file_extension": ".py",
   "mimetype": "text/x-python",
   "name": "python",
   "nbconvert_exporter": "python",
   "pygments_lexer": "ipython3",
   "version": "3.11.4"
  }
 },
 "nbformat": 4,
 "nbformat_minor": 2
}
