{
 "cells": [
  {
   "cell_type": "markdown",
   "id": "da4cd659",
   "metadata": {},
   "source": [
    "# Establishing Connection to the pg Database"
   ]
  },
  {
   "cell_type": "code",
   "execution_count": null,
   "id": "f5ccdd63",
   "metadata": {},
   "outputs": [],
   "source": [
    "# If you do not have the library installed \n",
    "# !pip install psycopg2-binary"
   ]
  },
  {
   "cell_type": "code",
   "execution_count": null,
   "id": "082d4470",
   "metadata": {},
   "outputs": [],
   "source": [
    "# Importing the libraries\n",
    "import psycopg2\n",
    "import pandas as pd"
   ]
  },
  {
   "cell_type": "code",
   "execution_count": null,
   "id": "fbb75423",
   "metadata": {},
   "outputs": [],
   "source": [
    "# Database credentials\n",
    "host = \"pg.analytics.northwestern.edu\"\n",
    "port = \"5432\"\n",
    "dbname = \"everything2023\"\n",
    "user = \"\" #your netID\n",
    "password = \"\" #yout password"
   ]
  },
  {
   "cell_type": "code",
   "execution_count": 13,
   "id": "8ce6eebe",
   "metadata": {},
   "outputs": [
    {
     "name": "stdout",
     "output_type": "stream",
     "text": [
      "Connected to the database.\n"
     ]
    }
   ],
   "source": [
    "# Establishing the connection\n",
    "conn = None\n",
    "try:\n",
    "    conn = psycopg2.connect(\n",
    "        host=host,\n",
    "        port=port,\n",
    "        dbname=dbname,\n",
    "        user=user,\n",
    "        password=password\n",
    "    )\n",
    "    cur = conn.cursor()\n",
    "    print(\"Connected to the database.\")\n",
    "except Exception as e:\n",
    "    print(f\"Error: {e}\")"
   ]
  },
  {
   "cell_type": "code",
   "execution_count": 16,
   "id": "7d3d9530",
   "metadata": {},
   "outputs": [
    {
     "name": "stdout",
     "output_type": "stream",
     "text": [
      "   dept  deptdesc\n",
      "0   801  LESLIE  \n",
      "1  1100  GARY F  \n",
      "2  1107  JACQUES \n",
      "3  1202  CABERN  \n",
      "4  1301  BE2     \n"
     ]
    }
   ],
   "source": [
    "# Write the first SQL query\n",
    "query1 = \"SELECT * FROM group_9.deptinfo\"\n",
    "\n",
    "# Execute the SQL query\n",
    "cur.execute(query1)\n",
    "\n",
    "# Fetch all results from the executed SQL query\n",
    "records1 = cur.fetchall()\n",
    "\n",
    "# Get the column names from the cursor description\n",
    "columns1 = [desc[0] for desc in cur.description]\n",
    "\n",
    "# Convert the fetched results into a DataFrame\n",
    "deptinfo = pd.DataFrame(records1, columns=columns1)\n",
    "\n",
    "# Print the DataFrame\n",
    "print(deptinfo.head())\n"
   ]
  },
  {
   "cell_type": "code",
   "execution_count": null,
   "id": "8cdc3189",
   "metadata": {},
   "outputs": [],
   "source": [
    "# Close the cursor and connection\n",
    "cur.close()\n",
    "conn.close()\n",
    "\n",
    "print(\"Cursor and connection closed.\")"
   ]
  },
  {
   "cell_type": "code",
   "execution_count": null,
   "id": "5f598722",
   "metadata": {},
   "outputs": [],
   "source": [
    "## OR "
   ]
  },
  {
   "cell_type": "code",
   "execution_count": null,
   "id": "e505f033",
   "metadata": {},
   "outputs": [],
   "source": [
    "# Checking if we can access the data\n",
    "\n",
    "# Ensure the connection was established successfully\n",
    "if conn is not None:\n",
    "    query = \"SELECT * FROM group_9.deptinfo limit 5\"\n",
    "    deptinfo = pd.read_sql(query, conn)\n",
    "    print(deptinfo)\n",
    "else:\n",
    "    print(\"Connection not established.\")"
   ]
  },
  {
   "cell_type": "code",
   "execution_count": null,
   "id": "05fd2a73",
   "metadata": {},
   "outputs": [],
   "source": [
    "# Close the connection\n",
    "if conn is not None:\n",
    "    conn.close()\n",
    "    print(\"Connection closed.\")"
   ]
  }
 ],
 "metadata": {
  "kernelspec": {
   "display_name": "Python 3 (ipykernel)",
   "language": "python",
   "name": "python3"
  },
  "language_info": {
   "codemirror_mode": {
    "name": "ipython",
    "version": 3
   },
   "file_extension": ".py",
   "mimetype": "text/x-python",
   "name": "python",
   "nbconvert_exporter": "python",
   "pygments_lexer": "ipython3",
   "version": "3.11.4"
  }
 },
 "nbformat": 4,
 "nbformat_minor": 5
}
