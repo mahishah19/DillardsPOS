{
 "cells": [
  {
   "cell_type": "markdown",
   "id": "73c891ab",
   "metadata": {},
   "source": [
    "# Preprocessing of features for clustering"
   ]
  },
  {
   "cell_type": "code",
   "execution_count": 1,
   "id": "0f141603",
   "metadata": {},
   "outputs": [],
   "source": [
    "# import packages\n",
    "import pandas as pd\n",
    "import numpy as np\n",
    "import psycopg2\n",
    "from psycopg2 import Error\n",
    "import matplotlib.pyplot as plt"
   ]
  },
  {
   "cell_type": "markdown",
   "id": "2d6434b2",
   "metadata": {},
   "source": [
    "Extract data from postgress"
   ]
  },
  {
   "cell_type": "code",
   "execution_count": 2,
   "id": "dbda349b",
   "metadata": {},
   "outputs": [],
   "source": [
    "USER = \"***\"\n",
    "PSWD = \"***\"\n",
    "HOST = \"pg.analytics.northwestern.edu\"\n",
    "PORT = \"5432\"\n",
    "DB_NAME = \"everything2023\""
   ]
  },
  {
   "cell_type": "code",
   "execution_count": 3,
   "id": "c235be66",
   "metadata": {},
   "outputs": [
    {
     "name": "stdout",
     "output_type": "stream",
     "text": [
      "You are connected to -  ('PostgreSQL 10.12 on x86_64-pc-linux-gnu, compiled by gcc (GCC) 4.8.5 20150623 (Red Hat 4.8.5-39), 64-bit',) \n",
      "\n"
     ]
    }
   ],
   "source": [
    "# Connect to postgress database\n",
    "try:\n",
    "    # Connect to an existing database\n",
    "    connection = psycopg2.connect(user = USER,\n",
    "                                  password = PSWD,\n",
    "                                  host = HOST,\n",
    "                                  port = PORT,\n",
    "                                  database = DB_NAME)\n",
    "\n",
    "    # Create a cursor to perform database operations\n",
    "    cursor = connection.cursor()\n",
    "    \n",
    "    # Print PostgreSQL details\n",
    "    cursor.execute(\"SELECT version();\")\n",
    "    \n",
    "    # Fetch result\n",
    "    record = cursor.fetchone()\n",
    "    \n",
    "    # Print succesfull connection\n",
    "    print(\"You are connected to - \", record, \"\\n\")\n",
    "    \n",
    "except (Exception, Error) as error:\n",
    "    # Print error conecting to ostgres\n",
    "    print(\"Error while connecting to PostgreSQL\", error)"
   ]
  },
  {
   "cell_type": "code",
   "execution_count": 4,
   "id": "c69a0b91",
   "metadata": {},
   "outputs": [
    {
     "name": "stderr",
     "output_type": "stream",
     "text": [
      "/var/folders/46/4q6_331j7qx5_bf3yg_mv9km0000gn/T/ipykernel_93717/2413202832.py:2: UserWarning: pandas only supports SQLAlchemy connectable (engine/connection) or database string URI or sqlite3 DBAPI2 connection. Other DBAPI2 objects are not tested. Please consider using SQLAlchemy.\n",
      "  skuinfo = pd.read_sql(\"select * from group_9.skuinfo\", connection)\n"
     ]
    },
    {
     "data": {
      "text/html": [
       "<div>\n",
       "<style scoped>\n",
       "    .dataframe tbody tr th:only-of-type {\n",
       "        vertical-align: middle;\n",
       "    }\n",
       "\n",
       "    .dataframe tbody tr th {\n",
       "        vertical-align: top;\n",
       "    }\n",
       "\n",
       "    .dataframe thead th {\n",
       "        text-align: right;\n",
       "    }\n",
       "</style>\n",
       "<table border=\"1\" class=\"dataframe\">\n",
       "  <thead>\n",
       "    <tr style=\"text-align: right;\">\n",
       "      <th></th>\n",
       "      <th>SKU</th>\n",
       "      <th>DEPT</th>\n",
       "      <th>CLASSID</th>\n",
       "      <th>UPC</th>\n",
       "      <th>STYLE</th>\n",
       "      <th>COLOR</th>\n",
       "      <th>SIZE</th>\n",
       "      <th>PACKSIZE</th>\n",
       "      <th>VENDOR</th>\n",
       "      <th>BRAND</th>\n",
       "    </tr>\n",
       "  </thead>\n",
       "  <tbody>\n",
       "    <tr>\n",
       "      <th>0</th>\n",
       "      <td>3</td>\n",
       "      <td>6505</td>\n",
       "      <td>113</td>\n",
       "      <td>000400000003000</td>\n",
       "      <td>00    F55KT2</td>\n",
       "      <td>WHISPERWHITE</td>\n",
       "      <td>P8EA</td>\n",
       "      <td>1</td>\n",
       "      <td>5119207</td>\n",
       "      <td>TURNBURY</td>\n",
       "    </tr>\n",
       "    <tr>\n",
       "      <th>1</th>\n",
       "      <td>4</td>\n",
       "      <td>8101</td>\n",
       "      <td>002</td>\n",
       "      <td>000400000004000</td>\n",
       "      <td>22    615CZ4</td>\n",
       "      <td>SPEARMI</td>\n",
       "      <td>S</td>\n",
       "      <td>1</td>\n",
       "      <td>3311144</td>\n",
       "      <td>C A SPOR</td>\n",
       "    </tr>\n",
       "    <tr>\n",
       "      <th>2</th>\n",
       "      <td>5</td>\n",
       "      <td>7307</td>\n",
       "      <td>003</td>\n",
       "      <td>000400000005000</td>\n",
       "      <td>7LBS  245-01</td>\n",
       "      <td>34 SILVER</td>\n",
       "      <td>KING</td>\n",
       "      <td>1</td>\n",
       "      <td>5510554</td>\n",
       "      <td>BEAU IDE</td>\n",
       "    </tr>\n",
       "    <tr>\n",
       "      <th>3</th>\n",
       "      <td>8</td>\n",
       "      <td>3404</td>\n",
       "      <td>00B</td>\n",
       "      <td>000400000008000</td>\n",
       "      <td>622   F05H84</td>\n",
       "      <td>MORNING MI</td>\n",
       "      <td>2T</td>\n",
       "      <td>1</td>\n",
       "      <td>2912827</td>\n",
       "      <td>HARTSTRI</td>\n",
       "    </tr>\n",
       "    <tr>\n",
       "      <th>4</th>\n",
       "      <td>15</td>\n",
       "      <td>2301</td>\n",
       "      <td>004</td>\n",
       "      <td>000400000015000</td>\n",
       "      <td>126   MDU461</td>\n",
       "      <td>255CAMEL</td>\n",
       "      <td>12</td>\n",
       "      <td>1</td>\n",
       "      <td>0023272</td>\n",
       "      <td>JONES/LA</td>\n",
       "    </tr>\n",
       "    <tr>\n",
       "      <th>...</th>\n",
       "      <td>...</td>\n",
       "      <td>...</td>\n",
       "      <td>...</td>\n",
       "      <td>...</td>\n",
       "      <td>...</td>\n",
       "      <td>...</td>\n",
       "      <td>...</td>\n",
       "      <td>...</td>\n",
       "      <td>...</td>\n",
       "      <td>...</td>\n",
       "    </tr>\n",
       "    <tr>\n",
       "      <th>1564173</th>\n",
       "      <td>9999973</td>\n",
       "      <td>3103</td>\n",
       "      <td>009</td>\n",
       "      <td>000400009973999</td>\n",
       "      <td>702   S3JAYV</td>\n",
       "      <td>STONE</td>\n",
       "      <td>4</td>\n",
       "      <td>1</td>\n",
       "      <td>6813115</td>\n",
       "      <td>POLO JEA</td>\n",
       "    </tr>\n",
       "    <tr>\n",
       "      <th>1564174</th>\n",
       "      <td>9999974</td>\n",
       "      <td>9801</td>\n",
       "      <td>726</td>\n",
       "      <td>000400009974999</td>\n",
       "      <td>G50171</td>\n",
       "      <td>NAVY MULTI</td>\n",
       "      <td>10</td>\n",
       "      <td>1</td>\n",
       "      <td>9212766</td>\n",
       "      <td>GABAR IN</td>\n",
       "    </tr>\n",
       "    <tr>\n",
       "      <th>1564175</th>\n",
       "      <td>9999991</td>\n",
       "      <td>2301</td>\n",
       "      <td>004</td>\n",
       "      <td>000400009991999</td>\n",
       "      <td>026   MDU201</td>\n",
       "      <td>618RED ROSE</td>\n",
       "      <td>8</td>\n",
       "      <td>1</td>\n",
       "      <td>0023272</td>\n",
       "      <td>JONES/LA</td>\n",
       "    </tr>\n",
       "    <tr>\n",
       "      <th>1564176</th>\n",
       "      <td>9999992</td>\n",
       "      <td>1202</td>\n",
       "      <td>402</td>\n",
       "      <td>000400009992999</td>\n",
       "      <td>14    F52UN1</td>\n",
       "      <td>PALE JADE</td>\n",
       "      <td>L</td>\n",
       "      <td>1</td>\n",
       "      <td>1446212</td>\n",
       "      <td>CABERNET</td>\n",
       "    </tr>\n",
       "    <tr>\n",
       "      <th>1564177</th>\n",
       "      <td>9999997</td>\n",
       "      <td>2503</td>\n",
       "      <td>111</td>\n",
       "      <td>000400009997999</td>\n",
       "      <td>1     1XKBGO</td>\n",
       "      <td>210CHOPNK</td>\n",
       "      <td>7</td>\n",
       "      <td>1</td>\n",
       "      <td>8515392</td>\n",
       "      <td>RAMPAGE</td>\n",
       "    </tr>\n",
       "  </tbody>\n",
       "</table>\n",
       "<p>1564178 rows × 10 columns</p>\n",
       "</div>"
      ],
      "text/plain": [
       "             SKU  DEPT CLASSID              UPC         STYLE         COLOR  \\\n",
       "0              3  6505     113  000400000003000  00    F55KT2  WHISPERWHITE   \n",
       "1              4  8101     002  000400000004000  22    615CZ4       SPEARMI   \n",
       "2              5  7307     003  000400000005000  7LBS  245-01     34 SILVER   \n",
       "3              8  3404     00B  000400000008000  622   F05H84    MORNING MI   \n",
       "4             15  2301     004  000400000015000  126   MDU461      255CAMEL   \n",
       "...          ...   ...     ...              ...           ...           ...   \n",
       "1564173  9999973  3103     009  000400009973999  702   S3JAYV         STONE   \n",
       "1564174  9999974  9801     726  000400009974999        G50171    NAVY MULTI   \n",
       "1564175  9999991  2301     004  000400009991999  026   MDU201   618RED ROSE   \n",
       "1564176  9999992  1202     402  000400009992999  14    F52UN1     PALE JADE   \n",
       "1564177  9999997  2503     111  000400009997999  1     1XKBGO     210CHOPNK   \n",
       "\n",
       "         SIZE  PACKSIZE   VENDOR     BRAND  \n",
       "0        P8EA         1  5119207  TURNBURY  \n",
       "1           S         1  3311144  C A SPOR  \n",
       "2        KING         1  5510554  BEAU IDE  \n",
       "3          2T         1  2912827  HARTSTRI  \n",
       "4          12         1  0023272  JONES/LA  \n",
       "...       ...       ...      ...       ...  \n",
       "1564173     4         1  6813115  POLO JEA  \n",
       "1564174    10         1  9212766  GABAR IN  \n",
       "1564175     8         1  0023272  JONES/LA  \n",
       "1564176     L         1  1446212  CABERNET  \n",
       "1564177     7         1  8515392   RAMPAGE  \n",
       "\n",
       "[1564178 rows x 10 columns]"
      ]
     },
     "execution_count": 4,
     "metadata": {},
     "output_type": "execute_result"
    }
   ],
   "source": [
    "# Read skuinfo table\n",
    "skuinfo = pd.read_sql(\"select * from group_9.skuinfo\", connection)\n",
    "skuinfo"
   ]
  },
  {
   "cell_type": "markdown",
   "id": "ded98fcb",
   "metadata": {},
   "source": [
    "1. Style (51 MERU08, 9 126NAO) - not used\n",
    "2. Color (BLACK, KHAKI) - Daniel\n",
    "3. Size (L) - Xinran\n",
    "4. Brand (TOMMY HI, MARK ECK) - not used\n",
    "5. Department (CLINIQUE, LESLIE) - Liang\n",
    "6. Whether discount (sell price - original price <0?) - Liang\n",
    "7. Most bought in which season/month (from transaction data) - Mahi\n",
    "8. City/state of the store (one-to-many relationship) - Mahi\n",
    "9. Return rate - Xinran"
   ]
  },
  {
   "cell_type": "markdown",
   "id": "d0d1fb1a",
   "metadata": {},
   "source": [
    "## Style"
   ]
  },
  {
   "cell_type": "code",
   "execution_count": 5,
   "id": "7b81aa3e",
   "metadata": {},
   "outputs": [
    {
     "name": "stdout",
     "output_type": "stream",
     "text": [
      "STYLE\n",
      "N     HARDWI    541\n",
      "PHOEBE          460\n",
      "NIKA            387\n",
      "70    S55KR9    340\n",
      "E     ROMAYN    333\n",
      "               ... \n",
      "74259             1\n",
      "6     190120      1\n",
      "PS102             1\n",
      "3     370422      1\n",
      "54    JWRUD2      1\n",
      "Name: count, Length: 316782, dtype: int64\n"
     ]
    },
    {
     "data": {
      "text/plain": [
       "316782"
      ]
     },
     "execution_count": 5,
     "metadata": {},
     "output_type": "execute_result"
    }
   ],
   "source": [
    "print(skuinfo[\"STYLE\"].value_counts())\n",
    "len(skuinfo[\"STYLE\"].unique())"
   ]
  },
  {
   "cell_type": "markdown",
   "id": "cbe69a7b",
   "metadata": {},
   "source": [
    "It contain too many different values and unable to combine, so we won't use this column."
   ]
  },
  {
   "cell_type": "markdown",
   "id": "f59dbcf8",
   "metadata": {},
   "source": [
    "## Color"
   ]
  },
  {
   "cell_type": "code",
   "execution_count": 6,
   "id": "99b2d87e",
   "metadata": {},
   "outputs": [
    {
     "data": {
      "text/plain": [
       "COLOR\n",
       "BLACK       99813\n",
       "WHITE       43240\n",
       "NAVY        30754\n",
       "RED         23050\n",
       "MULTI       20566\n",
       "BLUE        20261\n",
       "BLACK LE    17164\n",
       "PINK        16755\n",
       "BROWN       15126\n",
       "GREY        14134\n",
       "Name: count, dtype: int64"
      ]
     },
     "execution_count": 6,
     "metadata": {},
     "output_type": "execute_result"
    }
   ],
   "source": [
    "skuinfo[\"COLOR\"].value_counts().head(10)"
   ]
  },
  {
   "cell_type": "markdown",
   "id": "a87f9d77",
   "metadata": {},
   "source": [
    "1. categorical data: keep 199 values with highest frequencies, and the rest assigned as Other\n",
    "2. numerical data: Convert each color name to a corresponding color representation, such as RGB or HSL values. then calculate the similarity\n",
    "3. categorical data: check whether it contains black, white....,and the rest assigned as Other"
   ]
  },
  {
   "cell_type": "code",
   "execution_count": 7,
   "id": "95e6403f",
   "metadata": {},
   "outputs": [
    {
     "name": "stdout",
     "output_type": "stream",
     "text": [
      "#0343df\n"
     ]
    }
   ],
   "source": [
    "# convert into RGB\n",
    "import seaborn as sns\n",
    "\n",
    "color_name = 'blue'\n",
    "rgb_value = sns.xkcd_rgb[color_name]\n",
    "print(rgb_value)"
   ]
  },
  {
   "cell_type": "markdown",
   "id": "d64de2c2",
   "metadata": {},
   "source": [
    "## Size"
   ]
  },
  {
   "cell_type": "code",
   "execution_count": 8,
   "id": "ba8227ae",
   "metadata": {
    "scrolled": true
   },
   "outputs": [
    {
     "data": {
      "text/plain": [
       "SIZE\n",
       "L       125606\n",
       "M       125167\n",
       "S       107737\n",
       "ALL     103149\n",
       "XL       90229\n",
       "6        31179\n",
       "12       26881\n",
       "14       26463\n",
       "XXL      26234\n",
       "10       25382\n",
       "8        25015\n",
       "4        21271\n",
       "16       20782\n",
       "5        19703\n",
       "100M     17217\n",
       "090M     17102\n",
       "085M     16670\n",
       "080M     16610\n",
       "095M     16259\n",
       "060M     16007\n",
       "Name: count, dtype: int64"
      ]
     },
     "execution_count": 8,
     "metadata": {},
     "output_type": "execute_result"
    }
   ],
   "source": [
    "skuinfo[\"SIZE\"].value_counts().head(20)"
   ]
  },
  {
   "cell_type": "markdown",
   "id": "a24037a7",
   "metadata": {},
   "source": [
    "Convert all into S/M/L"
   ]
  },
  {
   "cell_type": "markdown",
   "id": "6a8b996d",
   "metadata": {},
   "source": [
    "## Brand"
   ]
  },
  {
   "cell_type": "code",
   "execution_count": 9,
   "id": "11c49027",
   "metadata": {},
   "outputs": [
    {
     "data": {
      "text/plain": [
       "BRAND\n",
       "POLO FAS    130994\n",
       "BROWN SH     52178\n",
       "ENZO ANG     49121\n",
       "LIZ CLAI     43723\n",
       "ROUNDTRE     39466\n",
       "             ...  \n",
       "SANDY MA         1\n",
       "MINELLI          1\n",
       "SOLERA/T         1\n",
       "BLUE             1\n",
       "INTERCON         1\n",
       "Name: count, Length: 1952, dtype: int64"
      ]
     },
     "execution_count": 9,
     "metadata": {},
     "output_type": "execute_result"
    }
   ],
   "source": [
    "skuinfo[\"BRAND\"].value_counts()"
   ]
  },
  {
   "cell_type": "markdown",
   "id": "d239c0af",
   "metadata": {},
   "source": [
    "It contain too many different values and unable to combine, so we won't use this column."
   ]
  },
  {
   "cell_type": "markdown",
   "id": "792ed2e9",
   "metadata": {},
   "source": [
    "## Department"
   ]
  },
  {
   "cell_type": "code",
   "execution_count": 10,
   "id": "b8a6c181",
   "metadata": {},
   "outputs": [
    {
     "data": {
      "text/plain": [
       "60"
      ]
     },
     "execution_count": 10,
     "metadata": {},
     "output_type": "execute_result"
    }
   ],
   "source": [
    "len(skuinfo[\"DEPT\"].value_counts())"
   ]
  },
  {
   "cell_type": "markdown",
   "id": "b1c75947",
   "metadata": {},
   "source": [
    "Only 60 different values"
   ]
  },
  {
   "cell_type": "markdown",
   "id": "d34e8c0a",
   "metadata": {},
   "source": [
    "## Whether discount "
   ]
  },
  {
   "cell_type": "markdown",
   "id": "e02739f2",
   "metadata": {},
   "source": [
    "Boolean variable\n",
    "1. use transact data, check the most recent purchase history to see whether it has a discount (0/1)\n",
    "2. use transact data, check the all purchase history to see whether it has a discount before (0/1)"
   ]
  },
  {
   "cell_type": "markdown",
   "id": "65da9c8e",
   "metadata": {},
   "source": [
    "## Most bought in which season"
   ]
  },
  {
   "cell_type": "markdown",
   "id": "912d973b",
   "metadata": {},
   "source": [
    "Categorical variable\n",
    "\n",
    "use transact data, check in which season/month the product is bought in most"
   ]
  },
  {
   "cell_type": "markdown",
   "id": "283c5166",
   "metadata": {},
   "source": [
    "## Location of the store"
   ]
  },
  {
   "cell_type": "markdown",
   "id": "0144859c",
   "metadata": {},
   "source": [
    "Categorical variable\n",
    "\n",
    "Combined with SKSTINFO and STRINFO, Find in which cities/states the product is stored. It is a one-to-many connection. "
   ]
  },
  {
   "cell_type": "markdown",
   "id": "740dac1c",
   "metadata": {},
   "source": [
    "## Return rate"
   ]
  },
  {
   "cell_type": "markdown",
   "id": "011e5cc7",
   "metadata": {},
   "source": [
    "Numerical variable\n",
    "use transact data, calculate the rate of return."
   ]
  }
 ],
 "metadata": {
  "kernelspec": {
   "display_name": "Python 3 (ipykernel)",
   "language": "python",
   "name": "python3"
  },
  "language_info": {
   "codemirror_mode": {
    "name": "ipython",
    "version": 3
   },
   "file_extension": ".py",
   "mimetype": "text/x-python",
   "name": "python",
   "nbconvert_exporter": "python",
   "pygments_lexer": "ipython3",
   "version": "3.11.4"
  }
 },
 "nbformat": 4,
 "nbformat_minor": 5
}
