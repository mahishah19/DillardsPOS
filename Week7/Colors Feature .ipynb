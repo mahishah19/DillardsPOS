{
 "cells": [
  {
   "cell_type": "code",
   "execution_count": 2,
   "id": "5568bca5",
   "metadata": {},
   "outputs": [],
   "source": [
    "import webcolors\n",
    "import pandas as pd\n",
    "\n",
    "# Define a function to convert color names to RGB\n",
    "def convert_color_to_rgb(color_names):\n",
    "    rgb_values = []\n",
    "    for name in color_names:\n",
    "        try:\n",
    "            # Convert color name to RGB\n",
    "            rgb = webcolors.name_to_rgb(name)\n",
    "            rgb_values.append(rgb)\n",
    "        except ValueError:\n",
    "            # Handle the exception if the color name is not found\n",
    "            print(f\"Color name '{name}' not found. Please provide a custom RGB value.\")\n",
    "            # Append a default value or request user input\n",
    "            rgb_values.append((0, 0, 0))  # This is just a placeholder for unknown colors.\n",
    "    return rgb_values"
   ]
  },
  {
   "cell_type": "code",
   "execution_count": 9,
   "id": "2685690b",
   "metadata": {},
   "outputs": [],
   "source": [
    "color_count = pd.read_csv('colorcount.csv') # Replace with your actual color names\n",
    "color_names = color_count['index'].fillna('').astype(str).str.lower()\n",
    "color_names = color_count['index'].apply(lambda x: x.lower() if isinstance(x, str) else x)\n",
    "color_names = color_count['index'].tolist()"
   ]
  },
  {
   "cell_type": "code",
   "execution_count": 11,
   "id": "0e803f84",
   "metadata": {},
   "outputs": [
    {
     "data": {
      "text/plain": [
       "0               black\n",
       "1               white\n",
       "2                navy\n",
       "3                 red\n",
       "4               multi\n",
       "             ...     \n",
       "71563        8037-425\n",
       "71564    bdy pow 612f\n",
       "71565         devious\n",
       "71566    altitude 3.4\n",
       "71567         10berry\n",
       "Name: index, Length: 71568, dtype: object"
      ]
     },
     "execution_count": 11,
     "metadata": {},
     "output_type": "execute_result"
    }
   ],
   "source": [
    "color_names = color_count['index'].astype(str).str.lower()\n",
    "color_names"
   ]
  },
  {
   "cell_type": "code",
   "execution_count": 10,
   "id": "c5ae8e74",
   "metadata": {},
   "outputs": [
    {
     "name": "stdout",
     "output_type": "stream",
     "text": [
      "Color name 'MULTI' not found. Please provide a custom RGB value.\n",
      "Color name 'BLACK LE' not found. Please provide a custom RGB value.\n",
      "Color name '001BLACK' not found. Please provide a custom RGB value.\n",
      "Color name 'RL BLACK' not found. Please provide a custom RGB value.\n",
      "Color name 'BLACK LEAT' not found. Please provide a custom RGB value.\n",
      "Color name 'BLK' not found. Please provide a custom RGB value.\n",
      "Color name 'ASSORTED' not found. Please provide a custom RGB value.\n",
      "Color name 'NO COLOR' not found. Please provide a custom RGB value.\n",
      "Color name '100WHITE' not found. Please provide a custom RGB value.\n",
      "Color name 'NATURAL' not found. Please provide a custom RGB value.\n",
      "Color name 'BLACKNESS' not found. Please provide a custom RGB value.\n",
      "Color name 'BLACK CA' not found. Please provide a custom RGB value.\n",
      "Color name 'DENIM' not found. Please provide a custom RGB value.\n",
      "Color name 'ONYX' not found. Please provide a custom RGB value.\n",
      "Color name 'ASST' not found. Please provide a custom RGB value.\n",
      "Color name 'ROYAL' not found. Please provide a custom RGB value.\n"
     ]
    },
    {
     "ename": "AttributeError",
     "evalue": "'float' object has no attribute 'lower'",
     "output_type": "error",
     "traceback": [
      "\u001b[0;31m---------------------------------------------------------------------------\u001b[0m",
      "\u001b[0;31mAttributeError\u001b[0m                            Traceback (most recent call last)",
      "Cell \u001b[0;32mIn[10], line 1\u001b[0m\n\u001b[0;32m----> 1\u001b[0m rgb_colors \u001b[38;5;241m=\u001b[39m convert_color_to_rgb(color_names)\n\u001b[1;32m      2\u001b[0m \u001b[38;5;28mprint\u001b[39m(rgb_colors)\n",
      "Cell \u001b[0;32mIn[2], line 10\u001b[0m, in \u001b[0;36mconvert_color_to_rgb\u001b[0;34m(color_names)\u001b[0m\n\u001b[1;32m      7\u001b[0m \u001b[38;5;28;01mfor\u001b[39;00m name \u001b[38;5;129;01min\u001b[39;00m color_names:\n\u001b[1;32m      8\u001b[0m     \u001b[38;5;28;01mtry\u001b[39;00m:\n\u001b[1;32m      9\u001b[0m         \u001b[38;5;66;03m# Convert color name to RGB\u001b[39;00m\n\u001b[0;32m---> 10\u001b[0m         rgb \u001b[38;5;241m=\u001b[39m webcolors\u001b[38;5;241m.\u001b[39mname_to_rgb(name)\n\u001b[1;32m     11\u001b[0m         rgb_values\u001b[38;5;241m.\u001b[39mappend(rgb)\n\u001b[1;32m     12\u001b[0m     \u001b[38;5;28;01mexcept\u001b[39;00m \u001b[38;5;167;01mValueError\u001b[39;00m:\n\u001b[1;32m     13\u001b[0m         \u001b[38;5;66;03m# Handle the exception if the color name is not found\u001b[39;00m\n",
      "File \u001b[0;32m~/anaconda3/lib/python3.11/site-packages/webcolors/conversion.py:72\u001b[0m, in \u001b[0;36mname_to_rgb\u001b[0;34m(name, spec)\u001b[0m\n\u001b[1;32m     47\u001b[0m \u001b[38;5;28;01mdef\u001b[39;00m \u001b[38;5;21mname_to_rgb\u001b[39m(name: \u001b[38;5;28mstr\u001b[39m, spec: \u001b[38;5;28mstr\u001b[39m \u001b[38;5;241m=\u001b[39m constants\u001b[38;5;241m.\u001b[39mCSS3) \u001b[38;5;241m-\u001b[39m\u001b[38;5;241m>\u001b[39m types\u001b[38;5;241m.\u001b[39mIntegerRGB:\n\u001b[1;32m     48\u001b[0m \u001b[38;5;250m    \u001b[39m\u001b[38;5;124;03m\"\"\"\u001b[39;00m\n\u001b[1;32m     49\u001b[0m \u001b[38;5;124;03m    Convert a color name to a 3-:class:`tuple` of :class:`int` suitable for use in\u001b[39;00m\n\u001b[1;32m     50\u001b[0m \u001b[38;5;124;03m    an ``rgb()`` triplet specifying that color.\u001b[39;00m\n\u001b[0;32m   (...)\u001b[0m\n\u001b[1;32m     70\u001b[0m \n\u001b[1;32m     71\u001b[0m \u001b[38;5;124;03m    \"\"\"\u001b[39;00m\n\u001b[0;32m---> 72\u001b[0m     \u001b[38;5;28;01mreturn\u001b[39;00m hex_to_rgb(name_to_hex(name, spec\u001b[38;5;241m=\u001b[39mspec))\n",
      "File \u001b[0;32m~/anaconda3/lib/python3.11/site-packages/webcolors/conversion.py:41\u001b[0m, in \u001b[0;36mname_to_hex\u001b[0;34m(name, spec)\u001b[0m\n\u001b[1;32m     39\u001b[0m \u001b[38;5;28;01mif\u001b[39;00m spec \u001b[38;5;129;01mnot\u001b[39;00m \u001b[38;5;129;01min\u001b[39;00m constants\u001b[38;5;241m.\u001b[39mSUPPORTED_SPECIFICATIONS:\n\u001b[1;32m     40\u001b[0m     \u001b[38;5;28;01mraise\u001b[39;00m \u001b[38;5;167;01mValueError\u001b[39;00m(constants\u001b[38;5;241m.\u001b[39mSPECIFICATION_ERROR_TEMPLATE\u001b[38;5;241m.\u001b[39mformat(spec\u001b[38;5;241m=\u001b[39mspec))\n\u001b[0;32m---> 41\u001b[0m hex_value \u001b[38;5;241m=\u001b[39m \u001b[38;5;28mgetattr\u001b[39m(constants, \u001b[38;5;124mf\u001b[39m\u001b[38;5;124m\"\u001b[39m\u001b[38;5;132;01m{\u001b[39;00mspec\u001b[38;5;241m.\u001b[39mupper()\u001b[38;5;132;01m}\u001b[39;00m\u001b[38;5;124m_NAMES_TO_HEX\u001b[39m\u001b[38;5;124m\"\u001b[39m)\u001b[38;5;241m.\u001b[39mget(name\u001b[38;5;241m.\u001b[39mlower())\n\u001b[1;32m     42\u001b[0m \u001b[38;5;28;01mif\u001b[39;00m hex_value \u001b[38;5;129;01mis\u001b[39;00m \u001b[38;5;28;01mNone\u001b[39;00m:\n\u001b[1;32m     43\u001b[0m     \u001b[38;5;28;01mraise\u001b[39;00m \u001b[38;5;167;01mValueError\u001b[39;00m(\u001b[38;5;124mf\u001b[39m\u001b[38;5;124m'\u001b[39m\u001b[38;5;124m\"\u001b[39m\u001b[38;5;132;01m{\u001b[39;00mname\u001b[38;5;132;01m}\u001b[39;00m\u001b[38;5;124m\"\u001b[39m\u001b[38;5;124m is not defined as a named color in \u001b[39m\u001b[38;5;132;01m{\u001b[39;00mspec\u001b[38;5;132;01m}\u001b[39;00m\u001b[38;5;124m'\u001b[39m)\n",
      "\u001b[0;31mAttributeError\u001b[0m: 'float' object has no attribute 'lower'"
     ]
    }
   ],
   "source": [
    "rgb_colors = convert_color_to_rgb(color_names)\n",
    "print(rgb_colors)"
   ]
  },
  {
   "cell_type": "code",
   "execution_count": null,
   "id": "294fbb2b",
   "metadata": {},
   "outputs": [],
   "source": [
    "# Difficult to handle colors hence dropping "
   ]
  },
  {
   "cell_type": "code",
   "execution_count": null,
   "id": "544e3820",
   "metadata": {},
   "outputs": [],
   "source": []
  }
 ],
 "metadata": {
  "kernelspec": {
   "display_name": "Python 3 (ipykernel)",
   "language": "python",
   "name": "python3"
  },
  "language_info": {
   "codemirror_mode": {
    "name": "ipython",
    "version": 3
   },
   "file_extension": ".py",
   "mimetype": "text/x-python",
   "name": "python",
   "nbconvert_exporter": "python",
   "pygments_lexer": "ipython3",
   "version": "3.11.4"
  }
 },
 "nbformat": 4,
 "nbformat_minor": 5
}
